{
 "cells": [
  {
   "cell_type": "code",
   "execution_count": 72,
   "metadata": {
    "collapsed": true,
    "pycharm": {
     "name": "#%%\n"
    }
   },
   "outputs": [],
   "source": [
    "from typing import Dict\n",
    "from IPython.display import clear_output\n",
    "import matplotlib.pyplot as plt\n",
    "import random as random\n",
    "import numpy as np\n",
    "from time import sleep\n",
    "from copy import deepcopy\n",
    "from pprint import pprint\n",
    "\n",
    "from Complexes.Simplex import Simplex\n",
    "\n",
    "plt.rcParams[\"figure.dpi\"] = 300\n",
    "\n",
    "\n",
    "from plotnine import ggplot, aes, geom_line, labs, theme, xlab, ylab, xlim\n",
    "\n",
    "import pandas as pd\n",
    "def print_status_bar(progress: float, block_count: int = 10) -> None:\n",
    "    clear_output(wait=True)\n",
    "    dark_string = \"▓\" * round(progress * block_count)\n",
    "    light_string = \"░\" * (block_count - len(dark_string))\n",
    "    print(f\"[{dark_string}{light_string}]\")"
   ]
  },
  {
   "cell_type": "code",
   "execution_count": 2,
   "outputs": [],
   "source": [
    "def make_vdws_network(node_count: int,\n",
    "                      poisson_parameter: int,\n",
    "                      rewire_probability: float) -> Dict[int, set[int]]:\n",
    "    debug_period = node_count / 160\n",
    "\n",
    "    vdws_graph = dict()\n",
    "    local_degrees = dict()\n",
    "\n",
    "    # generate local degrees\n",
    "    l = np.random.poisson(poisson_parameter, node_count)\n",
    "    while len(l) < node_count:  # very low chance this is invoked even once\n",
    "        l = np.random.poisson(poisson_parameter, node_count)\n",
    "\n",
    "    for node in range(node_count):  # circular graph\n",
    "        vdws_graph[node] = {(node + 1) % node_count, (node - 1) % node_count}\n",
    "        local_degrees[node] = l[node]\n",
    "    for node in vdws_graph:\n",
    "        for circular_neighbour_no_mod in range(node - local_degrees[node], node + local_degrees[node] + 1):\n",
    "            circular_neighbour = circular_neighbour_no_mod % node_count\n",
    "            if circular_neighbour == node:\n",
    "                continue\n",
    "            vdws_graph[node].add(circular_neighbour)\n",
    "            vdws_graph[circular_neighbour].add(node)\n",
    "        # debug\n",
    "        if node % debug_period == 0:\n",
    "            print_status_bar(node / len(vdws_graph), block_count=80)\n",
    "            print(\"[1/2]  Building circular graph base\")\n",
    "    # rewiring\n",
    "    for node in vdws_graph:\n",
    "        for clockwise_neighbour_no_mod in range(node + 1, node + 1 + local_degrees[node]):\n",
    "            clockwise_neighbour = clockwise_neighbour_no_mod % node_count\n",
    "            if random.random() < rewire_probability:\n",
    "                x = int(random.random() * node_count)\n",
    "                if x == node or x in vdws_graph[node]:\n",
    "                    continue\n",
    "                vdws_graph[node].remove(clockwise_neighbour)\n",
    "                vdws_graph[clockwise_neighbour].remove(node)\n",
    "                vdws_graph[node].add(x)\n",
    "                vdws_graph[x].add(node)\n",
    "        # debug\n",
    "        if node % debug_period == 0:\n",
    "            print_status_bar(node / len(vdws_graph), block_count=80)\n",
    "            print(\"[2/2]  Rewiring\")\n",
    "    return vdws_graph"
   ],
   "metadata": {
    "collapsed": false,
    "pycharm": {
     "name": "#%%\n"
    }
   }
  },
  {
   "cell_type": "code",
   "execution_count": 3,
   "outputs": [
    {
     "name": "stdout",
     "output_type": "stream",
     "text": [
      "Generated VDWS network with 200000 nodes.\n"
     ]
    }
   ],
   "source": [
    "random.seed(69420)\n",
    "np.random.seed(69420)\n",
    "vdws_network = make_vdws_network(200000, 25, 0.01)\n",
    "clear_output(wait=True)\n",
    "print(f\"Generated VDWS network with {len(vdws_network)} nodes.\")"
   ],
   "metadata": {
    "collapsed": false,
    "pycharm": {
     "name": "#%%\n"
    }
   }
  },
  {
   "cell_type": "code",
   "execution_count": 4,
   "outputs": [],
   "source": [
    "class EpidemicModel:\n",
    "    # STATE KEY\n",
    "    ## 0 - susceptible\n",
    "    ## 1 - infected\n",
    "    ## 2 - vaccinated\n",
    "    ## 3 - vaccinated and infected\n",
    "    ## 4 - removed\n",
    "    def __init__(self, network: Dict[int, set[int]], initial_infected_count: int = 5, infection_length: int = 2,\n",
    "                 pis: float = 0.01, piv: float = 0.01, pvis: float = 0.01, pviv: float = 0.01,\n",
    "                 vaccination_priority: list[int] = None):\n",
    "        self.network = network\n",
    "\n",
    "        self.pis = pis\n",
    "        self.piv = piv\n",
    "        self.pvis = pvis\n",
    "        self.pviv = pviv\n",
    "\n",
    "        self.infection_length = infection_length\n",
    "\n",
    "        self.tick_count = 0\n",
    "\n",
    "        self.vaccination_tick_threshold = 50\n",
    "        self.vaccination_per_tick = 400\n",
    "\n",
    "        self.states = dict()\n",
    "        self.susceptible_nodes = set()\n",
    "        self.state_counts = dict()\n",
    "        for i in range(5):\n",
    "            self.state_counts[i] = 0\n",
    "        for node in self.network:\n",
    "            self.states[node] = {\"state\": 0, \"infection_time_remaining\": 0}\n",
    "            self.states[node][\"state\"] = 0\n",
    "            self.susceptible_nodes.add(node)\n",
    "        self.state_counts[0] = len(self.network)\n",
    "        initial_infected = random.sample(range(len(network)), initial_infected_count)\n",
    "        for v in initial_infected:\n",
    "            self.infect(v)\n",
    "\n",
    "        if vaccination_priority is not None:\n",
    "            if len(vaccination_priority) != len(self.network):\n",
    "                raise ValueError(\"Not enough nodes in vaccination_priority.\")\n",
    "        self.vaccination_priority = vaccination_priority\n",
    "\n",
    "    def get_state_counts(self) -> Dict[int, int]:\n",
    "        return self.state_counts\n",
    "\n",
    "    def get_tick_count(self) -> int:\n",
    "        return self.tick_count\n",
    "\n",
    "    def get_transmission_probability(self, node: int, contact_node: int) -> float:\n",
    "        if node == contact_node:\n",
    "            raise ValueError(\"A node cannot infect to itself.\")\n",
    "        if self.get_state(node) == 1:\n",
    "            if self.states[contact_node][\"state\"] == 0:\n",
    "                return self.pis\n",
    "            if self.states[contact_node][\"state\"] == 2:\n",
    "                return self.piv\n",
    "        if self.get_state(node) == 3:\n",
    "            if self.states[contact_node][\"state\"] == 0:\n",
    "                return self.pvis\n",
    "            if self.states[contact_node][\"state\"] == 2:\n",
    "                return self.pviv\n",
    "        if self.states[contact_node][\"state\"] not in [0, 2]:\n",
    "            raise ValueError(\n",
    "                f\"Node {contact_node} cannot be infectable, it is in state {self.states[contact_node]['state']}.\")\n",
    "        raise ValueError(f\"Node {node} is not infectious, it is in state {self.states[node]['state']}.\")\n",
    "\n",
    "    def get_state(self, node: int) -> int:\n",
    "        return self.states[node][\"state\"]\n",
    "\n",
    "    def get_susceptible_nodes(self) -> set[int]:\n",
    "        return self.susceptible_nodes.copy()\n",
    "\n",
    "    def is_infectious_period_over(self, node: int) -> bool:\n",
    "        return self.states[node][\"infection_time_remaining\"] == 0\n",
    "\n",
    "    def is_infectious(self, node: int) -> bool:\n",
    "        return self.get_state(node) in [1, 3]\n",
    "\n",
    "    def is_infectable(self, node: int) -> bool:\n",
    "        return self.get_state(node) in [0, 2]\n",
    "\n",
    "    def is_epidemic_over(self) -> bool:\n",
    "        return self.state_counts[1] == 0 and self.state_counts[3] == 0\n",
    "\n",
    "    def infect(self, node: int) -> None:\n",
    "        if self.get_state(node) in [1, 3, 4]:\n",
    "            raise ValueError(f\"Node cannot be infected, in state {self.states[node]}.\")\n",
    "        if self.get_state(node) == 2:\n",
    "            self.state_counts[2] -= 1\n",
    "            self.state_counts[3] += 1\n",
    "            self.states[node][\"state\"] = 3\n",
    "            self.states[node][\"infection_time_remaining\"] = self.infection_length\n",
    "            return\n",
    "        self.state_counts[0] -= 1\n",
    "        self.state_counts[1] += 1\n",
    "        self.states[node][\"state\"] = 1\n",
    "        self.susceptible_nodes.remove(node)\n",
    "        self.states[node][\"infection_time_remaining\"] = self.infection_length\n",
    "\n",
    "    def vaccinate(self, node: int) -> None:  # todo\n",
    "        if self.get_state(node) != 0:\n",
    "            raise ValueError(f\"Node {node} is not vaccinatable, it is in state {self.get_state(node)}.\")\n",
    "        self.state_counts[0] -= 1\n",
    "        self.state_counts[2] += 1\n",
    "        self.states[node][\"state\"] = 2\n",
    "        self.susceptible_nodes.remove(node)\n",
    "\n",
    "    def remove(self, node: int) -> None:\n",
    "        if self.get_state(node) not in [1, 3]:\n",
    "            raise ValueError(\n",
    "                f\"Node {node} cannot be removed, as it is not infection. It is in state {self.states[node]['state']}.\")\n",
    "        if self.get_state(node) == 1:\n",
    "            self.state_counts[1] -= 1\n",
    "        else:\n",
    "            self.state_counts[3] -= 1\n",
    "        self.state_counts[4] += 1\n",
    "        self.states[node][\"state\"] = 4\n",
    "        self.states[node][\"infection_time_remaining\"] = 0\n",
    "\n",
    "    def increment_tick_count(self) -> None:\n",
    "        self.tick_count += 1\n",
    "\n",
    "    def reduce_infection_time_remaining(self, node: int) -> None:\n",
    "        if self.get_state(node) not in [1, 3]:\n",
    "            raise ValueError(f\"Node {node} is not infection, it has state {self.get_state(node)}.\")\n",
    "        self.states[node][\"infection_time_remaining\"] -= 1\n",
    "\n",
    "    def tick(self) -> None:\n",
    "        if self.is_epidemic_over():\n",
    "            raise Exception(\"Model can not be ticked, epidemic is over.\")\n",
    "        self.increment_tick_count()\n",
    "\n",
    "        # We decrement the infection time before infecting people, as they don't get infected until next tick\n",
    "        for node in self.network:\n",
    "            if self.get_state(node) not in [1, 3]:\n",
    "                continue\n",
    "            self.reduce_infection_time_remaining(node)\n",
    "\n",
    "        # Find nodes to infect by next tick\n",
    "        nodes_to_infect = set()\n",
    "        for node in self.network:\n",
    "            if not self.is_infectious(node):\n",
    "                continue\n",
    "            for neighbour in self.network[node]:\n",
    "                if not self.is_infectable(neighbour):\n",
    "                    continue\n",
    "                if random.random() < self.get_transmission_probability(node, neighbour):\n",
    "                    nodes_to_infect.add(neighbour)\n",
    "\n",
    "        # Remove the nodes that are no longer infection\n",
    "        for node in self.network:\n",
    "            if self.get_state(node) not in [1, 3]:\n",
    "                continue\n",
    "            if self.is_infectious_period_over(node):\n",
    "                self.remove(node)\n",
    "                continue\n",
    "\n",
    "        # Infect nodes\n",
    "        for node in nodes_to_infect:\n",
    "            self.infect(node)\n",
    "\n",
    "        # Move people to vaccinated\n",
    "        if self.get_tick_count() < self.vaccination_tick_threshold:\n",
    "            return\n",
    "        if self.vaccination_priority is None:\n",
    "            susceptible_nodes = self.get_susceptible_nodes()\n",
    "            if len(susceptible_nodes) < self.vaccination_per_tick:\n",
    "                for node in susceptible_nodes:\n",
    "                    self.vaccinate(node)\n",
    "                return\n",
    "            for node in random.sample(tuple(susceptible_nodes), self.vaccination_per_tick):\n",
    "                self.vaccinate(node)\n",
    "            return\n",
    "        to_vaccinate = set()\n",
    "        while len(to_vaccinate) < self.vaccination_per_tick and len(self.vaccination_priority) > 0:\n",
    "            node = self.vaccination_priority.pop(0)\n",
    "            if self.get_state(node) != 0:\n",
    "                continue\n",
    "            to_vaccinate.add(node)\n",
    "        for node in to_vaccinate:\n",
    "            self.vaccinate(node)\n"
   ],
   "metadata": {
    "collapsed": false,
    "pycharm": {
     "name": "#%%\n"
    }
   }
  },
  {
   "cell_type": "code",
   "execution_count": 5,
   "outputs": [],
   "source": [
    "def print_state_counts(state_counts: dict[int, int], column_width: int) -> None:\n",
    "    cols = [\n",
    "        [\"S\", str(state_counts[0])],\n",
    "        [\"I\", str(state_counts[1])],\n",
    "        [\"V\", str(state_counts[2])],\n",
    "        [\"VI\", str(state_counts[3])],\n",
    "        [\"R\", str(state_counts[4])]\n",
    "    ]\n",
    "    for line_number in range(len(cols[0])):\n",
    "        for column_number in range(len(cols)):\n",
    "            print(cols[column_number][line_number].ljust(column_width), end=\"\")\n",
    "        print()\n",
    "\n",
    "\n",
    "def get_state_counts_text(state_counts: dict[int, int], column_width: int) -> None:\n",
    "    output_string = \"\"\n",
    "    cols = [\n",
    "        [\"S\", str(state_counts[0])],\n",
    "        [\"I\", str(state_counts[1])],\n",
    "        [\"V\", str(state_counts[2])],\n",
    "        [\"VI\", str(state_counts[3])],\n",
    "        [\"R\", str(state_counts[4])]\n",
    "    ]\n",
    "    for line_number in range(len(cols[0])):\n",
    "        for column_number in range(len(cols)):\n",
    "            output_string += cols[column_number][line_number].ljust(column_width)\n",
    "        output_string += \"\\n\"\n",
    "    return output_string\n",
    "\n",
    "\n",
    "def print_model_status(epidemic_model: EpidemicModel, total_tick_count: int, column_width: int,\n",
    "                       finished: bool = True) -> None:\n",
    "    if epidemic_model.is_epidemic_over():\n",
    "        print_status_bar(1, block_count=100)\n",
    "    else:\n",
    "        print_status_bar(epidemic_model.get_tick_count() / total_tick_count, block_count=100)\n",
    "    print_state_counts(epidemic_model.get_state_counts(), column_width)\n",
    "    if finished:\n",
    "        print(f\"Total ticks {epidemic_model.get_tick_count()}\")\n",
    "        return\n",
    "    print(f\"Tick {epidemic_model.get_tick_count()}\")\n",
    "\n",
    "\n",
    "def run_model(epidemic_model: EpidemicModel, tick_count: int, column_width: int = 20, quiet=False) -> list[list[int]]:\n",
    "    state_counts_list = []\n",
    "    for _, state_count in epidemic_model.get_state_counts().items():\n",
    "        state_counts_list.append([state_count])\n",
    "\n",
    "    if not quiet:\n",
    "        print_model_status(epidemic_model, tick_count, column_width=column_width, finished=False)\n",
    "    for _ in range(tick_count):\n",
    "        if epidemic_model.is_epidemic_over():\n",
    "            break\n",
    "        epidemic_model.tick()\n",
    "        state_counts = epidemic_model.get_state_counts()\n",
    "        for state, state_count in state_counts.items():\n",
    "            state_counts_list[state].append(state_count)\n",
    "        if not quiet:\n",
    "            print_model_status(epidemic_model, tick_count, column_width=column_width, finished=False)\n",
    "    if not quiet:\n",
    "        print_model_end(epidemic_model)\n",
    "    return state_counts_list\n",
    "\n",
    "\n",
    "def print_model_end(epidemic_model: EpidemicModel) -> None:\n",
    "    if not epidemic_model.is_epidemic_over():\n",
    "        raise Exception(\"Epidemic not over!\")\n",
    "    clear_output(wait=True)\n",
    "    print(\"Model ended with the following state distribution.\")\n",
    "    print_state_counts(epidemic_model.get_state_counts(), column_width=10)\n",
    "    print(f\"Total tick count: {epidemic_model.get_tick_count()}\")\n",
    "\n",
    "\n",
    "def get_model_end_text(epidemic_model: EpidemicModel) -> str:\n",
    "    if not epidemic_model.is_epidemic_over():\n",
    "        raise Exception(\"Epidemic not over!\")\n",
    "    output_string = \"\"\n",
    "    output_string += \"Model ended with the following state distribution.\\n\"\n",
    "    output_string += get_state_counts_text(epidemic_model.get_state_counts(), column_width=10)\n",
    "    output_string += f\"Total tick count: {epidemic_model.get_tick_count()}\"\n",
    "    return output_string\n",
    "\n",
    "\n",
    "def plot_epidemic_model_results(states_over_time: list[list[int]], title: str = \"\", max_x: int = None,\n",
    "                                max_y: int = None, figure_size=(20, 10)) -> None:\n",
    "    legend_names = [\"S\", \"I\", \"V\", \"VI\", \"R\"]\n",
    "    x = np.linspace(0, len(states_over_time[0]), len(states_over_time[0]))\n",
    "    plt.rcParams[\"figure.figsize\"] = figure_size\n",
    "    if max_x is None:\n",
    "        plt.xlim([0, len(states_over_time[0])])\n",
    "    else:\n",
    "        plt.xlim([0, max_x])\n",
    "    if max_y is not None:\n",
    "        plt.ylim([0, max_y])\n",
    "    plt.xlabel(\"Tick number\", fontsize=20)\n",
    "    plt.ylabel(\"Count\", fontsize=20)\n",
    "    plt.xticks(fontsize=20)\n",
    "    plt.yticks(fontsize=20)\n",
    "    plt.title(title, fontsize=20)\n",
    "    for i, (states, legend_name) in enumerate(zip(states_over_time, legend_names)):\n",
    "        if i in [0]: continue\n",
    "        plt.plot(x, states, label=legend_name)\n",
    "    plt.legend(loc=\"best\", prop={'size': 20})\n",
    "    plt.show()"
   ],
   "metadata": {
    "collapsed": false,
    "pycharm": {
     "name": "#%%\n"
    }
   }
  },
  {
   "cell_type": "code",
   "execution_count": 6,
   "outputs": [
    {
     "name": "stdout",
     "output_type": "stream",
     "text": [
      "Model ended with the following state distribution.\n",
      "S         I         V         VI        R         \n",
      "9822      0         78620     0         111558    \n",
      "Total tick count: 311\n"
     ]
    }
   ],
   "source": [
    "random.seed(69420)\n",
    "ep_model_1 = EpidemicModel(vdws_network, infection_length=3)\n",
    "ep_model_1_results = run_model(ep_model_1, tick_count=500)"
   ],
   "metadata": {
    "collapsed": false,
    "pycharm": {
     "name": "#%%\n"
    }
   }
  },
  {
   "cell_type": "code",
   "execution_count": 7,
   "outputs": [
    {
     "name": "stdout",
     "output_type": "stream",
     "text": [
      "Model ended with the following state distribution.\n",
      "S         I         V         VI        R         \n",
      "103652    0         72040     0         24308     \n",
      "Total tick count: 234\n"
     ]
    }
   ],
   "source": [
    "random.seed(69420)\n",
    "ep_model_2 = EpidemicModel(vdws_network, piv=0.005, pvis=0.005, pviv=0.0025, infection_length=3)\n",
    "ep_model_2_results = run_model(ep_model_2, tick_count=500)"
   ],
   "metadata": {
    "collapsed": false,
    "pycharm": {
     "name": "#%%\n"
    }
   }
  },
  {
   "cell_type": "code",
   "execution_count": 76,
   "outputs": [
    {
     "name": "stdout",
     "output_type": "stream",
     "text": [
      "103652\n"
     ]
    }
   ],
   "source": [
    "print(ep_model_2_results[0][-1])"
   ],
   "metadata": {
    "collapsed": false,
    "pycharm": {
     "name": "#%%\n"
    }
   }
  },
  {
   "cell_type": "code",
   "execution_count": 67,
   "outputs": [],
   "source": [
    "x_max = max([len(ep_model_1_results[0]), len(ep_model_2_results[0])])"
   ],
   "metadata": {
    "collapsed": false,
    "pycharm": {
     "name": "#%%\n"
    }
   }
  },
  {
   "cell_type": "code",
   "execution_count": 77,
   "outputs": [
    {
     "name": "stderr",
     "output_type": "stream",
     "text": [
      "C:\\Users\\napie\\anaconda3\\lib\\site-packages\\plotnine\\ggplot.py:719: PlotnineWarning: Saving 8 x 4 in image.\n",
      "C:\\Users\\napie\\anaconda3\\lib\\site-packages\\plotnine\\ggplot.py:722: PlotnineWarning: Filename: disease-model-no-vaccine.pdf\n"
     ]
    }
   ],
   "source": [
    "x = list(range(len(ep_model_1_results[0])))\n",
    "y1 = ep_model_1_results[0]\n",
    "y2 = ep_model_1_results[1]\n",
    "y3 = ep_model_1_results[2]\n",
    "y4 = ep_model_1_results[3]\n",
    "y5 = ep_model_1_results[4]\n",
    "\n",
    "df = pd.DataFrame(zip(x, y1, y2, y3, y4, y5), columns=[\"Tick\", \"S\", \"I\", \"V\", \"VI\", \"R\"])\n",
    "df = pd.melt(df, id_vars=\"Tick\")\n",
    "\n",
    "\n",
    "p = (\n",
    "        ggplot(df)\n",
    "        + aes(x=\"Tick\")\n",
    "        + geom_line(aes(y=\"value\", color=\"variable\"))\n",
    "        + labs(color=\"Category\")\n",
    "        + xlab(\"Tick\")\n",
    "        + ylab(\"Count\")\n",
    "        + theme(figure_size=(8, 4), dpi=300)\n",
    "        + xlim(0, x_max)\n",
    ")\n",
    "p.save(\"disease-model-no-vaccine.pdf\", \"pdf\")"
   ],
   "metadata": {
    "collapsed": false,
    "pycharm": {
     "name": "#%%\n"
    }
   }
  },
  {
   "cell_type": "code",
   "execution_count": 78,
   "outputs": [
    {
     "name": "stderr",
     "output_type": "stream",
     "text": [
      "C:\\Users\\napie\\anaconda3\\lib\\site-packages\\plotnine\\ggplot.py:719: PlotnineWarning: Saving 8 x 4 in image.\n",
      "C:\\Users\\napie\\anaconda3\\lib\\site-packages\\plotnine\\ggplot.py:722: PlotnineWarning: Filename: disease-model-vaccine.pdf\n"
     ]
    }
   ],
   "source": [
    "x = list(range(len(ep_model_1_results[0])))\n",
    "y1 = ep_model_1_results[0]\n",
    "y2 = ep_model_2_results[1]\n",
    "y3 = ep_model_2_results[2]\n",
    "y4 = ep_model_2_results[3]\n",
    "y5 = ep_model_2_results[4]\n",
    "\n",
    "df = pd.DataFrame(zip(x, y1, y2, y3, y4, y5), columns=[\"Tick\", \"S\", \"I\", \"V\", \"VI\", \"R\"])\n",
    "df = pd.melt(df, id_vars=\"Tick\")\n",
    "\n",
    "\n",
    "p = (\n",
    "        ggplot(df)\n",
    "        + aes(x=\"Tick\")\n",
    "        + geom_line(aes(y=\"value\", color=\"variable\"))\n",
    "        + labs(color=\"Category\")\n",
    "        + xlab(\"Tick\")\n",
    "        + ylab(\"Count\")\n",
    "        + theme(figure_size=(8, 4), dpi=300)\n",
    "        + xlim(0, x_max)\n",
    ")\n",
    "p.save(\"disease-model-vaccine.pdf\", \"pdf\")"
   ],
   "metadata": {
    "collapsed": false,
    "pycharm": {
     "name": "#%%\n"
    }
   }
  }
 ],
 "metadata": {
  "kernelspec": {
   "display_name": "Python 3",
   "language": "python",
   "name": "python3"
  },
  "language_info": {
   "codemirror_mode": {
    "name": "ipython",
    "version": 2
   },
   "file_extension": ".py",
   "mimetype": "text/x-python",
   "name": "python",
   "nbconvert_exporter": "python",
   "pygments_lexer": "ipython2",
   "version": "2.7.6"
  }
 },
 "nbformat": 4,
 "nbformat_minor": 0
}