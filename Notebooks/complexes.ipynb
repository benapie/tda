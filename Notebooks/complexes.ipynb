{
 "cells": [
  {
   "cell_type": "markdown",
   "source": [
    "First we import some methods."
   ],
   "metadata": {
    "collapsed": false,
    "pycharm": {
     "name": "#%% md\n"
    }
   }
  },
  {
   "cell_type": "code",
   "execution_count": 1,
   "metadata": {
    "pycharm": {
     "name": "#%%\n"
    }
   },
   "outputs": [],
   "source": [
    "from __future__ import annotations\n",
    "from dataclasses import dataclass\n",
    "from numpy import array\n",
    "from time import perf_counter\n",
    "from Complexes.VR.Expansion.ExpansionBruteForce import ExpansionBruteForce\n",
    "from Complexes.VR.Expansion.Incremental import Incremental\n",
    "from Complexes.VR.Expansion.Inductive import Inductive\n",
    "from Complexes.VR.Skeleton.SkeletonBruteForce import *\n",
    "from random import random\n",
    "from typing import ClassVar, Dict\n",
    "from numpy import pi, sin, cos, arange\n",
    "from plotnine import ggplot, aes, geom_line, labs, theme, xlab, ylab\n",
    "from IPython.display import clear_output\n",
    "from Complexes.VR.Skeleton.Sklearn import Sklearn\n",
    "import pandas as pd"
   ]
  },
  {
   "cell_type": "markdown",
   "source": [
    "A progress bar will allow us to track progress on long running code."
   ],
   "metadata": {
    "collapsed": false,
    "pycharm": {
     "name": "#%% md\n"
    }
   }
  },
  {
   "cell_type": "code",
   "execution_count": 2,
   "outputs": [],
   "source": [
    "def progress_bar(progress: float, bar_count: int = 80):\n",
    "    clear_output(wait=True)\n",
    "    progress_bar_count = int(progress * bar_count)\n",
    "    print(f\"[{'+' * progress_bar_count}{' ' * (bar_count - progress_bar_count)}]\")"
   ],
   "metadata": {
    "collapsed": false,
    "pycharm": {
     "name": "#%%\n"
    }
   }
  },
  {
   "cell_type": "markdown",
   "source": [
    "We define the Euclidean metric."
   ],
   "metadata": {
    "collapsed": false,
    "pycharm": {
     "name": "#%% md\n"
    }
   }
  },
  {
   "cell_type": "code",
   "execution_count": 3,
   "metadata": {
    "pycharm": {
     "name": "#%%\n"
    }
   },
   "outputs": [],
   "source": [
    "def d(x: ndarray, y: ndarray) -> float:\n",
    "    if x.size != y.size:\n",
    "        raise ValueError(\"Sizes of x and y do not match.\")\n",
    "    total = 0\n",
    "    for xx, yy in zip(x, y):\n",
    "        total += (xx - yy) ** 2\n",
    "    return total ** 0.5"
   ]
  },
  {
   "cell_type": "markdown",
   "source": [
    "We define two sampling methods for generating datasets."
   ],
   "metadata": {
    "collapsed": false,
    "pycharm": {
     "name": "#%% md\n"
    }
   }
  },
  {
   "cell_type": "code",
   "execution_count": 4,
   "outputs": [],
   "source": [
    "def random_points(point_count: int) -> List[ndarray]:\n",
    "    points = []\n",
    "    for _ in range(point_count):\n",
    "        points.append(array([random(), random(), random()]))\n",
    "    return points\n",
    "\n",
    "\n",
    "def sample_noisy_circle(point_count: int, radius: float = 1, radius_noise: float = None) -> List[ndarray]:\n",
    "    if radius_noise is None:\n",
    "        radius_noise = radius / 10\n",
    "    points = []\n",
    "    for _ in range(point_count):\n",
    "        r = radius + ((((random() ** 0.5) * 2) - 1) * radius_noise)\n",
    "        angle = 2 * pi * random()\n",
    "        points.append(array([r * cos(angle), r * sin(angle)]))\n",
    "    return points"
   ],
   "metadata": {
    "collapsed": false,
    "pycharm": {
     "name": "#%%\n"
    }
   }
  },
  {
   "cell_type": "markdown",
   "source": [
    "We use these functions to define some datasets for later."
   ],
   "metadata": {
    "collapsed": false,
    "pycharm": {
     "name": "#%% md\n"
    }
   }
  },
  {
   "cell_type": "code",
   "execution_count": 5,
   "metadata": {
    "pycharm": {
     "name": "#%%\n"
    }
   },
   "outputs": [],
   "source": [
    "@dataclass\n",
    "class TestSet:\n",
    "    label: str\n",
    "    desc: str\n",
    "    data: List[ndarray]\n",
    "\n",
    "\n",
    "# Random test sets\n",
    "test_sets: Dict[str, TestSet] = dict()\n",
    "for n in [10, 100, 1000, 10000, 100000]:\n",
    "    la = f\"random_{n}\"\n",
    "    de = f\"{n} random points taken uniformly at random from [0,1]^3.\"\n",
    "    da = random_points(n)\n",
    "    t = TestSet(la, de, da)\n",
    "    test_sets[la] = t\n",
    "\n",
    "# Noisy circle test sets\n",
    "for n in [1000, 10000, 100000]:\n",
    "    la = f\"noisy_unit_circle_{n}\"\n",
    "    de = f\"{n} random points taken uniformly from an annulus.\"\n",
    "    da = sample_noisy_circle(n)\n",
    "    t = TestSet(la, de, da)\n",
    "    test_sets[la] = t"
   ]
  },
  {
   "cell_type": "markdown",
   "source": [
    "We're moving towards a nice function to run our different methods, first a dataclass."
   ],
   "metadata": {
    "collapsed": false,
    "pycharm": {
     "name": "#%% md\n"
    }
   }
  },
  {
   "cell_type": "code",
   "execution_count": 6,
   "metadata": {
    "pycharm": {
     "name": "#%%\n"
    }
   },
   "outputs": [],
   "source": [
    "@dataclass\n",
    "class VRRun:\n",
    "    test_set_label: str = None\n",
    "    test_set_size: int = None\n",
    "    epsilon: float = None\n",
    "    max_dim: int = None\n",
    "    skeleton_method: str = None\n",
    "    expansion_method: str = None\n",
    "    skeleton_time: float = None\n",
    "    expansion_time: float = None\n",
    "\n",
    "    def __init__(self):\n",
    "        pass"
   ]
  },
  {
   "cell_type": "markdown",
   "source": [
    "And the mentioned function (this will save a lot of time)."
   ],
   "metadata": {
    "collapsed": false,
    "pycharm": {
     "name": "#%% md\n"
    }
   }
  },
  {
   "cell_type": "code",
   "execution_count": 7,
   "outputs": [],
   "source": [
    "def do_vr_run(run_class: ClassVar, test_set: TestSet, max_dim: int, epsilon: float) -> VRRun:\n",
    "    run = VRRun()\n",
    "    run.test_set_label = test_set.label\n",
    "    run.test_set_size = len(test_set.data)\n",
    "    run.epsilon = epsilon\n",
    "    run.max_dim = max_dim\n",
    "\n",
    "    for base in run_class.__bases__:\n",
    "        if \"compute_expansion\" in base.__abstractmethods__:\n",
    "            run.skeleton_method = base.__name__\n",
    "        elif \"compute_skeleton\" in base.__abstractmethods__:\n",
    "            run.expansion_method = base.__name__\n",
    "\n",
    "    run_instance = run_class(test_set.data, epsilon, d)\n",
    "\n",
    "    start = perf_counter()\n",
    "    run_instance.compute_skeleton()\n",
    "    end = perf_counter()\n",
    "    run.skeleton_time = round(end - start, 3)\n",
    "\n",
    "    start = perf_counter()\n",
    "    run_instance.compute_expansion(max_dim)\n",
    "    end = perf_counter()\n",
    "    run.expansion_time = round(end - start, 3)\n",
    "\n",
    "    return run"
   ],
   "metadata": {
    "collapsed": false,
    "pycharm": {
     "name": "#%%\n"
    }
   }
  },
  {
   "cell_type": "markdown",
   "metadata": {
    "pycharm": {
     "name": "#%% md\n"
    }
   },
   "source": [
    "Time for our first test! We'll first just confirm that the skeleton method from Sklearn is better than brute force, which is expected."
   ]
  },
  {
   "cell_type": "code",
   "execution_count": 8,
   "outputs": [
    {
     "name": "stdout",
     "output_type": "stream",
     "text": [
      "Complete.\n"
     ]
    }
   ],
   "source": [
    "class BruteForceSkeleton(SkeletonBruteForce, Incremental):\n",
    "    pass\n",
    "\n",
    "\n",
    "class SklearnSkeleton(Sklearn, Incremental):\n",
    "    pass\n",
    "\n",
    "\n",
    "skeleton_runs: Dict[str, List[VRRun]] = {\n",
    "    \"bf\": [],\n",
    "    \"sk\": [],\n",
    "}\n",
    "\n",
    "for n in range(100, 1000, 10):\n",
    "    my_data = sample_noisy_circle(n)\n",
    "    my_test_set = TestSet(\"\", \"\", my_data)\n",
    "\n",
    "    progress_bar((n / 1000))\n",
    "    bf_instance = do_vr_run(BruteForceSkeleton, my_test_set, 3, 0.01)\n",
    "    sk_instance = do_vr_run(SklearnSkeleton, my_test_set, 3, 0.01)\n",
    "\n",
    "    skeleton_runs[\"bf\"].append(bf_instance)\n",
    "    skeleton_runs[\"sk\"].append(sk_instance)\n",
    "\n",
    "clear_output(wait=True)\n",
    "print(\"Complete.\")"
   ],
   "metadata": {
    "collapsed": false,
    "pycharm": {
     "name": "#%%\n"
    }
   }
  },
  {
   "cell_type": "markdown",
   "source": [
    "Now we plot the results."
   ],
   "metadata": {
    "collapsed": false,
    "pycharm": {
     "name": "#%% md\n"
    }
   }
  },
  {
   "cell_type": "code",
   "execution_count": 19,
   "outputs": [],
   "source": [
    "x = [run.test_set_size for run in skeleton_runs[\"bf\"]]\n",
    "y1 = [run.skeleton_time for run in skeleton_runs[\"bf\"]]\n",
    "y2 = [run.skeleton_time for run in skeleton_runs[\"sk\"]]\n",
    "\n",
    "df = pd.DataFrame(zip(x, y1, y2), columns=[\"Point count\", \"Brute force\", \"Sklearn\"])\n",
    "df = pd.melt(df, id_vars=\"Point count\")\n",
    "\n",
    "p = (\n",
    "        ggplot(df)\n",
    "        + aes(x=\"Point count\")\n",
    "        + geom_line(aes(y=\"value\", linetype=\"variable\"))\n",
    "        + labs(linetype=\"Skeleton method\")\n",
    "        + xlab(\"Point count\")\n",
    "        + ylab(\"Time (s)\")\n",
    "        + theme(figure_size=(8, 4), dpi=300)\n",
    ")"
   ],
   "metadata": {
    "collapsed": false,
    "pycharm": {
     "name": "#%%\n"
    }
   }
  },
  {
   "cell_type": "code",
   "execution_count": 20,
   "outputs": [
    {
     "name": "stderr",
     "output_type": "stream",
     "text": [
      "C:\\Users\\napie\\anaconda3\\lib\\site-packages\\plotnine\\ggplot.py:719: PlotnineWarning: Saving 8 x 4 in image.\n",
      "C:\\Users\\napie\\anaconda3\\lib\\site-packages\\plotnine\\ggplot.py:722: PlotnineWarning: Filename: 1-skeleton-methods.pdf\n"
     ]
    }
   ],
   "source": [
    "p.save(\"1-skeleton-methods.pdf\", \"pdf\")"
   ],
   "metadata": {
    "collapsed": false,
    "pycharm": {
     "name": "#%%\n"
    }
   }
  },
  {
   "cell_type": "markdown",
   "source": [
    "This clearly reaffirms what we believed! Now we move onto an investiagtion into expansion methods"
   ],
   "metadata": {
    "collapsed": false,
    "pycharm": {
     "name": "#%% md\n"
    }
   }
  },
  {
   "cell_type": "code",
   "execution_count": 11,
   "metadata": {
    "pycharm": {
     "name": "#%%\n"
    }
   },
   "outputs": [
    {
     "name": "stdout",
     "output_type": "stream",
     "text": [
      "Complete.\n"
     ]
    }
   ],
   "source": [
    "# COMPARING SKELETON METHODS\n",
    "\n",
    "class BruteForceExpansion(Sklearn, ExpansionBruteForce):\n",
    "    pass\n",
    "\n",
    "\n",
    "class InductiveExpansion(Sklearn, Inductive):\n",
    "    pass\n",
    "\n",
    "\n",
    "class IncrementalExpansion(Sklearn, Incremental):\n",
    "    pass\n",
    "\n",
    "\n",
    "initial_expansion_runs: Dict[str, List[VRRun]] = {\n",
    "    \"bf;nuc1000\": [],\n",
    "    \"in;nuc1000\": [],\n",
    "    \"ic;nuc1000\": [],\n",
    "}\n",
    "\n",
    "max_dim = 10\n",
    "\n",
    "for ep in arange(0.001, 0.0101, 0.0001):\n",
    "    progress_bar((ep * 100) ** 6)\n",
    "    bf_instance = do_vr_run(BruteForceExpansion, test_sets[\"noisy_unit_circle_1000\"], max_dim, ep)\n",
    "    in_instance = do_vr_run(InductiveExpansion, test_sets[\"noisy_unit_circle_1000\"], max_dim, ep)\n",
    "    ic_instance = do_vr_run(IncrementalExpansion, test_sets[\"noisy_unit_circle_1000\"], max_dim, ep)\n",
    "\n",
    "    initial_expansion_runs[\"bf;nuc1000\"].append(bf_instance)\n",
    "    initial_expansion_runs[\"in;nuc1000\"].append(in_instance)\n",
    "    initial_expansion_runs[\"ic;nuc1000\"].append(ic_instance)\n",
    "\n",
    "clear_output(wait=True)\n",
    "print(\"Complete.\")"
   ]
  },
  {
   "cell_type": "code",
   "execution_count": 27,
   "outputs": [],
   "source": [
    "x = [run.epsilon for run in initial_expansion_runs[\"bf;nuc1000\"]]\n",
    "y1 = [run.expansion_time for run in initial_expansion_runs[\"bf;nuc1000\"]]\n",
    "y2 = [run.expansion_time for run in initial_expansion_runs[\"in;nuc1000\"]]\n",
    "y3 = [run.expansion_time for run in initial_expansion_runs[\"ic;nuc1000\"]]\n",
    "\n",
    "df = pd.DataFrame(zip(x, y1, y2, y3), columns=[\"Epsilon\", \"Brute force\", \"Inductive\", \"Incremental\"])\n",
    "df = pd.melt(df, id_vars=\"Epsilon\")\n",
    "\n",
    "p = (\n",
    "        ggplot(df)\n",
    "        + aes(x=\"Epsilon\")\n",
    "        + geom_line(aes(y=\"value\", linetype=\"variable\"))\n",
    "        + labs(linetype=\"Expansion method\")\n",
    "        + xlab(\"$\\\\hat\\\\varepsilon$\")\n",
    "        + ylab(\"Time (s)\")\n",
    "        + theme(figure_size=(8, 4), dpi=300)\n",
    ")"
   ],
   "metadata": {
    "collapsed": false,
    "pycharm": {
     "name": "#%%\n"
    }
   }
  },
  {
   "cell_type": "code",
   "execution_count": 28,
   "outputs": [
    {
     "name": "stderr",
     "output_type": "stream",
     "text": [
      "C:\\Users\\napie\\anaconda3\\lib\\site-packages\\plotnine\\ggplot.py:719: PlotnineWarning: Saving 8 x 4 in image.\n",
      "C:\\Users\\napie\\anaconda3\\lib\\site-packages\\plotnine\\ggplot.py:722: PlotnineWarning: Filename: 1-initial-expansion-methods.pdf\n"
     ]
    }
   ],
   "source": [
    "p.save(\"1-initial-expansion-methods.pdf\", \"pdf\")"
   ],
   "metadata": {
    "collapsed": false,
    "pycharm": {
     "name": "#%%\n"
    }
   }
  },
  {
   "cell_type": "markdown",
   "source": [
    "So it seems that brute force is _very_ bad, as expected. Lets investigated incremental vs inductive a bit more."
   ],
   "metadata": {
    "collapsed": false,
    "pycharm": {
     "name": "#%% md\n"
    }
   }
  },
  {
   "cell_type": "code",
   "execution_count": 23,
   "outputs": [
    {
     "name": "stdout",
     "output_type": "stream",
     "text": [
      "Complete.\n"
     ]
    }
   ],
   "source": [
    "expansion_runs: Dict[str, List[VRRun]] = {\n",
    "    \"in;nuc1000\": [],\n",
    "    \"ic;nuc1000\": [],\n",
    "}\n",
    "\n",
    "max_dim = 8\n",
    "\n",
    "for ep in arange(0.01, 0.055, 0.001):\n",
    "    progress_bar((ep * 20) ** 3)\n",
    "    in_instance = do_vr_run(InductiveExpansion, test_sets[\"noisy_unit_circle_1000\"], max_dim, ep)\n",
    "    ic_instance = do_vr_run(IncrementalExpansion, test_sets[\"noisy_unit_circle_1000\"], max_dim, ep)\n",
    "\n",
    "    expansion_runs[\"in;nuc1000\"].append(in_instance)\n",
    "    expansion_runs[\"ic;nuc1000\"].append(ic_instance)\n",
    "\n",
    "clear_output(wait=True)\n",
    "print(\"Complete.\")"
   ],
   "metadata": {
    "collapsed": false,
    "pycharm": {
     "name": "#%%\n"
    }
   }
  },
  {
   "cell_type": "code",
   "execution_count": 29,
   "outputs": [],
   "source": [
    "x = [run.epsilon for run in expansion_runs[\"in;nuc1000\"]]\n",
    "y1 = [run.expansion_time for run in expansion_runs[\"in;nuc1000\"]]\n",
    "y2 = [run.expansion_time for run in expansion_runs[\"ic;nuc1000\"]]\n",
    "\n",
    "df = pd.DataFrame(zip(x, y1, y2), columns=[\"Epsilon\", \"Inductive\", \"Incremental\"])\n",
    "df = pd.melt(df, id_vars=\"Epsilon\")\n",
    "\n",
    "p = (\n",
    "        ggplot(df)\n",
    "        + aes(x=\"Epsilon\")\n",
    "        + geom_line(aes(y=\"value\", linetype=\"variable\"))\n",
    "        + labs(linetype=\"Expansion method\")\n",
    "        + xlab(\"$\\\\hat\\\\varepsilon$\")\n",
    "        + ylab(\"Time (s)\")\n",
    "        + theme(figure_size=(8, 4), dpi=300)\n",
    ")"
   ],
   "metadata": {
    "collapsed": false,
    "pycharm": {
     "name": "#%%\n"
    }
   }
  },
  {
   "cell_type": "code",
   "execution_count": 30,
   "outputs": [
    {
     "name": "stderr",
     "output_type": "stream",
     "text": [
      "C:\\Users\\napie\\anaconda3\\lib\\site-packages\\plotnine\\ggplot.py:719: PlotnineWarning: Saving 8 x 4 in image.\n",
      "C:\\Users\\napie\\anaconda3\\lib\\site-packages\\plotnine\\ggplot.py:722: PlotnineWarning: Filename: 1-expansion-methods.pdf\n"
     ]
    }
   ],
   "source": [
    "p.save(\"1-expansion-methods.pdf\", \"pdf\")"
   ],
   "metadata": {
    "collapsed": false,
    "pycharm": {
     "name": "#%%\n"
    }
   }
  },
  {
   "cell_type": "code",
   "execution_count": null,
   "outputs": [],
   "source": [],
   "metadata": {
    "collapsed": false,
    "pycharm": {
     "name": "#%%\n"
    }
   }
  }
 ],
 "metadata": {
  "kernelspec": {
   "display_name": "Python 3 (ipykernel)",
   "language": "python",
   "name": "python3"
  },
  "language_info": {
   "codemirror_mode": {
    "name": "ipython",
    "version": 3
   },
   "file_extension": ".py",
   "mimetype": "text/x-python",
   "name": "python",
   "nbconvert_exporter": "python",
   "pygments_lexer": "ipython3",
   "version": "3.10.2"
  }
 },
 "nbformat": 4,
 "nbformat_minor": 1
}